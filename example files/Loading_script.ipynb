{
 "cells": [
  {
   "cell_type": "code",
   "execution_count": 9,
   "metadata": {},
   "outputs": [],
   "source": [
    "import csv\n",
    "import pandas as pd\n",
    "from sklearn.model_selection import train_test_split\n",
    "from tqdm import tqdm\n",
    "\n",
    "class DatasetPreprocessor():\n",
    "\n",
    "  def __init__(self, path):\n",
    "    self.dataset = pd.read_csv(path, sep=\"\\t\", header=None, quotechar=\"§\", quoting=csv.QUOTE_ALL, engine='python')\n",
    "  \n",
    "  def process(self):\n",
    "    seqs = []\n",
    "    labels = []\n",
    "    seq = []\n",
    "    lab = []\n",
    " #   pos = []\n",
    "    for index, row in tqdm(self.dataset.iterrows()):\n",
    "        if row[0] == \"*\":\n",
    "            assert len(seq)==len(lab)\n",
    "            seqs.append(\" \".join(seq))\n",
    "            labels.append(\" \".join(lab))\n",
    "            #qs.append(seq)\n",
    "            #labels.append(lab)\n",
    "            assert len(seq)==len(lab)\n",
    "            seq = []\n",
    "            lab = []\n",
    "        else:\n",
    "                #print(seq)\n",
    "                #print(lab)\n",
    "                #print(row)\n",
    "                #print(self.dataset.iloc[index+1])\n",
    "                #input()\n",
    "            seq.append(str(row[1]))\n",
    "            lab.append(str(row[2]))\n",
    "    pos_df = pd.DataFrame({ # 'position':pos,\n",
    "                             'tokens': seqs,\n",
    "                             'pos_tags': labels\n",
    "                        })\n",
    "    pos_df = pos_df.dropna()\n",
    "   # dataset.columns = [\"position\", \"tokens\", \"pos_tags\"]\n",
    "   # dataset = dataset.drop(['position'], axis=1)\n",
    "    train_set, dev_set = train_test_split(pos_df, test_size=0.1)\n",
    "    return train_set, dev_set\n",
    "\n",
    "  def get_labels(self):\n",
    "    return set(self.dataset[3].to_list())"
   ]
  },
  {
   "cell_type": "code",
   "execution_count": 10,
   "metadata": {},
   "outputs": [],
   "source": [
    "pr = DatasetPreprocessor(\"complete_data.tsv\")"
   ]
  },
  {
   "cell_type": "code",
   "execution_count": 11,
   "metadata": {},
   "outputs": [
    {
     "name": "stderr",
     "output_type": "stream",
     "text": [
      "6102it [00:00, 11511.24it/s]\n"
     ]
    }
   ],
   "source": [
    "train, test = pr.process()"
   ]
  },
  {
   "cell_type": "code",
   "execution_count": 13,
   "metadata": {},
   "outputs": [],
   "source": [
    "train.to_csv(\"sample.csv\", index=False)\n",
    "test.to_csv(\"tsample.csv\", index=False)"
   ]
  }
 ],
 "metadata": {
  "kernelspec": {
   "display_name": "Python 3",
   "language": "python",
   "name": "python3"
  },
  "language_info": {
   "codemirror_mode": {
    "name": "ipython",
    "version": 3
   },
   "file_extension": ".py",
   "mimetype": "text/x-python",
   "name": "python",
   "nbconvert_exporter": "python",
   "pygments_lexer": "ipython3",
   "version": "3.6.5"
  }
 },
 "nbformat": 4,
 "nbformat_minor": 4
}
